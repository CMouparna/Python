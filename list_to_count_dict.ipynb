{
  "nbformat": 4,
  "nbformat_minor": 0,
  "metadata": {
    "colab": {
      "name": "list to count_dict.ipynb",
      "provenance": [],
      "authorship_tag": "ABX9TyOetZwHt1E6pSqqUEPpIIc8",
      "include_colab_link": true
    },
    "kernelspec": {
      "name": "python3",
      "display_name": "Python 3"
    },
    "language_info": {
      "name": "python"
    }
  },
  "cells": [
    {
      "cell_type": "markdown",
      "metadata": {
        "id": "view-in-github",
        "colab_type": "text"
      },
      "source": [
        "<a href=\"https://colab.research.google.com/github/CMouparna/Python/blob/main/list_to_count_dict.ipynb\" target=\"_parent\"><img src=\"https://colab.research.google.com/assets/colab-badge.svg\" alt=\"Open In Colab\"/></a>"
      ]
    },
    {
      "cell_type": "code",
      "execution_count": 1,
      "metadata": {
        "colab": {
          "base_uri": "https://localhost:8080/"
        },
        "id": "HxO_klHF4Ij-",
        "outputId": "a2549649-9b45-4c81-ed23-5f6d94714604"
      },
      "outputs": [
        {
          "output_type": "stream",
          "name": "stdout",
          "text": [
            "enter the sentence here:  Hey, I am Mouparna. How are you?\n",
            "Dictionary Items  :   {'Hey,': 1, 'I': 1, 'am': 1, 'Mouparna.': 1, 'How': 1, 'are': 1, 'you?': 1}\n"
          ]
        }
      ],
      "source": [
        "string = input(\"enter the sentence here: \") \n",
        "splitted_words = []\n",
        "\n",
        "splitted_words = string.split()\n",
        "frequency = [splitted_words.count(i) for i in splitted_words]\n",
        "\n",
        "count_dict = dict(zip(splitted_words, frequency))\n",
        "print(\"Dictionary Items  :  \",  count_dict)"
      ]
    },
    {
      "cell_type": "code",
      "source": [
        ""
      ],
      "metadata": {
        "id": "3o3w4gdt7Bi7"
      },
      "execution_count": null,
      "outputs": []
    }
  ]
}