{
  "nbformat": 4,
  "nbformat_minor": 0,
  "metadata": {
    "colab": {
      "name": "Remove Duplicate.ipynb",
      "provenance": [],
      "authorship_tag": "ABX9TyPcmsF3Ru+mlaRlr2KKv8hS",
      "include_colab_link": true
    },
    "kernelspec": {
      "name": "python3",
      "display_name": "Python 3"
    },
    "language_info": {
      "name": "python"
    }
  },
  "cells": [
    {
      "cell_type": "markdown",
      "metadata": {
        "id": "view-in-github",
        "colab_type": "text"
      },
      "source": [
        "<a href=\"https://colab.research.google.com/github/CMouparna/Python/blob/main/Remove_Duplicate.ipynb\" target=\"_parent\"><img src=\"https://colab.research.google.com/assets/colab-badge.svg\" alt=\"Open In Colab\"/></a>"
      ]
    },
    {
      "cell_type": "code",
      "source": [
        "def Remove(duplicate_num):\n",
        "    list = []\n",
        "    for num in duplicate_num:\n",
        "        if num not in list:\n",
        "            list.append(num)\n",
        "    return list"
      ],
      "metadata": {
        "id": "rX1IKCxYpTU7"
      },
      "execution_count": 27,
      "outputs": []
    },
    {
      "cell_type": "code",
      "source": [
        "duplicate_num = [2,5,5,10,11,10,6,8]\n",
        "print(Remove(duplicate_num))"
      ],
      "metadata": {
        "colab": {
          "base_uri": "https://localhost:8080/"
        },
        "id": "JWVwz1CQs59z",
        "outputId": "901e7514-9827-4bbe-9d86-9fd574667f94"
      },
      "execution_count": 29,
      "outputs": [
        {
          "output_type": "stream",
          "name": "stdout",
          "text": [
            "[2, 5, 10, 11, 6, 8]\n"
          ]
        }
      ]
    },
    {
      "cell_type": "code",
      "source": [
        ""
      ],
      "metadata": {
        "id": "anIA_zAUs7C7"
      },
      "execution_count": null,
      "outputs": []
    }
  ]
}