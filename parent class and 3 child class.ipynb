{
  "nbformat": 4,
  "nbformat_minor": 0,
  "metadata": {
    "colab": {
      "provenance": [],
      "include_colab_link": true
    },
    "kernelspec": {
      "name": "python3",
      "display_name": "Python 3"
    },
    "language_info": {
      "name": "python"
    }
  },
  "cells": [
    {
      "cell_type": "markdown",
      "metadata": {
        "id": "view-in-github",
        "colab_type": "text"
      },
      "source": [
        "<a href=\"https://colab.research.google.com/github/CMouparna/Python/blob/main/parent%20class%20and%203%20child%20class.ipynb\" target=\"_parent\"><img src=\"https://colab.research.google.com/assets/colab-badge.svg\" alt=\"Open In Colab\"/></a>"
      ]
    },
    {
      "cell_type": "markdown",
      "source": [
        "Making a parent class and 3 different child class"
      ],
      "metadata": {
        "id": "4CSil4WbWj9u"
      }
    },
    {
      "cell_type": "markdown",
      "source": [
        "Making a parent class and 3 different child class"
      ],
      "metadata": {
        "id": "juYQ-TLPWJBq"
      }
    },
    {
      "cell_type": "code",
      "execution_count": 1,
      "metadata": {
        "colab": {
          "base_uri": "https://localhost:8080/"
        },
        "id": "E0eBrtUZMGAz",
        "outputId": "71f53e68-a25a-480d-9070-dca46b294f7a"
      },
      "outputs": [
        {
          "output_type": "stream",
          "name": "stdout",
          "text": [
            "Mouparna Chatterjee\n"
          ]
        }
      ],
      "source": [
        "#parent_class\n",
        "class person:\n",
        "    def __init__(self,f_name,l_name):\n",
        "        self.f_name = f_name\n",
        "        self.l_name= l_name\n",
        "        \n",
        "    def printname(self):\n",
        "        print(self.f_name,self.l_name)\n",
        "\n",
        "x=person(\"Mouparna\",\"Chatterjee\")\n",
        "x.printname()\n",
        "        "
      ]
    },
    {
      "cell_type": "code",
      "source": [
        "#child_class_1\n",
        "# not adding any other thing just inherit the parent class to a child class\n",
        "\n",
        "class student(person):\n",
        "  pass\n",
        "\n",
        "x=person(\"Ani\",\"roy\")\n",
        "x.printname()\n"
      ],
      "metadata": {
        "colab": {
          "base_uri": "https://localhost:8080/"
        },
        "id": "bOUF7_HLNCzO",
        "outputId": "89bc1c0e-14d8-48f8-971c-9ae2104abe72"
      },
      "execution_count": 2,
      "outputs": [
        {
          "output_type": "stream",
          "name": "stdout",
          "text": [
            "Ani roy\n"
          ]
        }
      ]
    },
    {
      "cell_type": "code",
      "source": [
        "#child_class_2\n",
        "\n",
        "class employe(person):\n",
        "  def __init__(self,f_name, l_name,emp_id):\n",
        "    self.emp_id=emp_id\n",
        "    person.__init__(self,f_name,l_name)  \n",
        "  \n",
        "  def show(self):\n",
        "    print(self.emp_id)\n",
        "\n",
        "y=employe(\"Mouparna\",\"Chatterjee\",12345)\n",
        "y.printname()\n",
        "y.show()\n",
        "    "
      ],
      "metadata": {
        "colab": {
          "base_uri": "https://localhost:8080/"
        },
        "id": "4G2sEK7sRqa3",
        "outputId": "7516aed9-a108-4d45-8a61-19690cfbd64f"
      },
      "execution_count": 3,
      "outputs": [
        {
          "output_type": "stream",
          "name": "stdout",
          "text": [
            "Mouparna Chatterjee\n",
            "12345\n"
          ]
        }
      ]
    },
    {
      "cell_type": "code",
      "source": [
        "#child_class_3\n",
        "\n",
        "class staff(person):\n",
        "  def __init__(self,f_lane,l_name,exp,promotion):\n",
        "    self.exp=exp\n",
        "    self.promotion=promotion\n",
        "    person.__init__(self,f_lane,l_name)\n",
        "\n",
        "  def show(self):\n",
        "    print(self.exp)\n",
        "    print(self.promotion)\n",
        "\n",
        "z=staff(\"Mouparna\",\"Chatterjee\",20,4)\n",
        "z.printname()\n",
        "z.show()"
      ],
      "metadata": {
        "colab": {
          "base_uri": "https://localhost:8080/"
        },
        "id": "nwBJCqazUMpB",
        "outputId": "d1c97a0c-ea52-4ba1-8318-29435b5f6858"
      },
      "execution_count": 4,
      "outputs": [
        {
          "output_type": "stream",
          "name": "stdout",
          "text": [
            "Mouparna Chatterjee\n",
            "20\n",
            "4\n"
          ]
        }
      ]
    }
  ]
}