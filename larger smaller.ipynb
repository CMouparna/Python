{
  "nbformat": 4,
  "nbformat_minor": 0,
  "metadata": {
    "colab": {
      "name": "Untitled1.ipynb",
      "provenance": []
    },
    "kernelspec": {
      "name": "python3",
      "display_name": "Python 3"
    },
    "language_info": {
      "name": "python"
    }
  },
  "cells": [
    {
      "cell_type": "code",
      "execution_count": 1,
      "metadata": {
        "colab": {
          "base_uri": "https://localhost:8080/"
        },
        "id": "mmRB-TbFoW9h",
        "outputId": "61d3eb08-a483-4894-c5e9-19c39eec430d"
      },
      "outputs": [
        {
          "output_type": "stream",
          "name": "stdout",
          "text": [
            "Writing script1.py\n"
          ]
        }
      ],
      "source": [
        "%%writefile script1.py\n",
        "num1=int(input('Enter first number:'))\n",
        "num2=int(input('Enter second number:'))\n",
        "if num1>=num2:\n",
        "if num1==num2:\n",
        "print('Both numbers are equal.')\n",
        "else:\n",
        "print('first number is greater')\n"
      ]
    },
    {
      "cell_type": "code",
      "source": [
        "%%writefile script2.property\n",
        "num1=int(input('Enter first number:'))\n",
        "num2=int(input('Enter second number:'))\n",
        "if num1<=num2:\n",
        "if num1==num2:\n",
        "print('Both numbers are equal.')\n",
        "else:\n",
        "print('second number is greater')\n",
        "\n",
        "\n",
        "\n",
        "\n",
        "\n"
      ],
      "metadata": {
        "colab": {
          "base_uri": "https://localhost:8080/"
        },
        "id": "vjfxlxGlpZ_R",
        "outputId": "02ba97f4-0688-4eea-b915-717470a210cc"
      },
      "execution_count": 2,
      "outputs": [
        {
          "output_type": "stream",
          "name": "stdout",
          "text": [
            "Writing script2.property\n"
          ]
        }
      ]
    },
    {
      "cell_type": "code",
      "source": [
        ""
      ],
      "metadata": {
        "id": "BLzHz4J2p8Ye"
      },
      "execution_count": null,
      "outputs": []
    }
  ]
}